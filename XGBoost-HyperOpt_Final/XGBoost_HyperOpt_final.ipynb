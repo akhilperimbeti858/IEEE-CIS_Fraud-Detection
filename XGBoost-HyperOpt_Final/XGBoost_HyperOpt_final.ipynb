{
  "nbformat": 4,
  "nbformat_minor": 0,
  "metadata": {
    "accelerator": "GPU",
    "colab": {
      "name": "XGBoost_HyperOpt_final.ipynb",
      "provenance": [],
      "collapsed_sections": [],
      "toc_visible": true
    },
    "kernelspec": {
      "display_name": "Python 3",
      "name": "python3"
    },
    "language_info": {
      "name": "python"
    }
  },
  "cells": [
    {
      "cell_type": "markdown",
      "metadata": {
        "id": "sEdsh0LhqJLC"
      },
      "source": [
        "## **Detecting fraudulent transactions from transactional customer data using XGBoost-Hyperopt**\n",
        "* ###  **Implementing Hyperparmeter Optimization with XGBoost to detect and classify fraudulent data**"
      ]
    },
    {
      "cell_type": "code",
      "metadata": {
        "id": "z4x7iDKgjnRk"
      },
      "source": [
        "import pandas as pd\n",
        "import numpy as np\n",
        "import matplotlib.pyplot as plt"
      ],
      "execution_count": null,
      "outputs": []
    },
    {
      "cell_type": "code",
      "metadata": {
        "id": "XxnD4nznze-a"
      },
      "source": [
        "from sklearn.model_selection import KFold, TimeSeriesSplit\n",
        "from sklearn.model_selection import StratifiedKFold\n",
        "from sklearn.metrics import roc_auc_score\n",
        "from xgboost import plot_importance\n",
        "from sklearn.metrics import make_scorer\n",
        "\n",
        "import time\n",
        "\n",
        "## Hyperparameter optimization modules\n",
        "from hyperopt import fmin, hp, tpe, Trials, space_eval, STATUS_OK, STATUS_RUNNING\n",
        "from functools import partial"
      ],
      "execution_count": null,
      "outputs": []
    },
    {
      "cell_type": "markdown",
      "metadata": {
        "id": "-KZypZEDss2P"
      },
      "source": [
        "**Importing the data - (resampled data from the Class Imbalance notebook)**"
      ]
    },
    {
      "cell_type": "code",
      "metadata": {
        "colab": {
          "base_uri": "https://localhost:8080/"
        },
        "id": "Rtlz1xhXcrX_",
        "outputId": "8aa73800-fce3-4c92-b65f-4cece2afc471"
      },
      "source": [
        "from google.colab import drive\n",
        "drive.mount('/content/drive')"
      ],
      "execution_count": null,
      "outputs": [
        {
          "output_type": "stream",
          "text": [
            "Mounted at /content/drive\n"
          ],
          "name": "stdout"
        }
      ]
    },
    {
      "cell_type": "code",
      "metadata": {
        "id": "d1t1MJhJc-CZ"
      },
      "source": [
        "X_train = pd.read_csv('/content/drive/MyDrive/MLE-UCSD/CAPSTONE_Extra-Projects/Credit Card Fraud Detection/Model Implementation/XGBoost HyperOpt Model/final_data/X_train_final.csv')\n",
        "y_train = pd.read_csv('/content/drive/MyDrive/MLE-UCSD/CAPSTONE_Extra-Projects/Credit Card Fraud Detection/Model Implementation/XGBoost HyperOpt Model/final_data/y_train_final.csv')\n",
        "X_test = pd.read_csv('/content/drive/MyDrive/MLE-UCSD/CAPSTONE_Extra-Projects/Credit Card Fraud Detection/Model Implementation/XGBoost HyperOpt Model/final_data/X_test_final.csv')"
      ],
      "execution_count": null,
      "outputs": []
    },
    {
      "cell_type": "code",
      "metadata": {
        "id": "gWwI6h8jsw80"
      },
      "source": [
        "X_train = pd.read_csv('X_train_final.csv')\n",
        "y_train = pd.read_csv('y_train_final.csv')\n",
        "X_test = pd.read_csv('X_test_final.csv')"
      ],
      "execution_count": null,
      "outputs": []
    },
    {
      "cell_type": "code",
      "metadata": {
        "id": "jmVU-JmrSH3r"
      },
      "source": [
        "sample_submission = pd.read_csv('sample_submission.csv')"
      ],
      "execution_count": null,
      "outputs": []
    },
    {
      "cell_type": "markdown",
      "metadata": {
        "id": "6x5IGLA4sxsv"
      },
      "source": [
        "**Reducing Memory Usage**"
      ]
    },
    {
      "cell_type": "code",
      "metadata": {
        "colab": {
          "base_uri": "https://localhost:8080/"
        },
        "id": "xwFVjxXGj9GY",
        "outputId": "6a79cc22-42eb-48c5-ac3d-e26440c52ea4"
      },
      "source": [
        "from memory_reduction import reduce_mem_usage\n",
        "\n",
        "X_train = reduce_mem_usage(X_train)\n",
        "y_train = reduce_mem_usage(y_train)\n",
        "X_test = reduce_mem_usage(X_test)"
      ],
      "execution_count": null,
      "outputs": [
        {
          "output_type": "stream",
          "text": [
            "Memory usage of dataframe is 886.95 MB\n",
            "Memory usage after optimization is: 226.09 MB\n",
            "Decreased by 74.5%\n",
            "Memory usage of dataframe is 9.78 MB\n",
            "Memory usage after optimization is: 6.52 MB\n",
            "Decreased by 33.3%\n",
            "Memory usage of dataframe is 394.31 MB\n",
            "Memory usage after optimization is: 93.74 MB\n",
            "Decreased by 76.2%\n"
          ],
          "name": "stdout"
        }
      ]
    },
    {
      "cell_type": "markdown",
      "metadata": {
        "id": "Lq6PtINntCdh"
      },
      "source": [
        "**Setting and cleaning the train and test data**"
      ]
    },
    {
      "cell_type": "code",
      "metadata": {
        "id": "N9J9pi3oRmkv"
      },
      "source": [
        "X_train.drop('Unnamed: 0',axis=1, inplace=True)\n",
        "y_train.drop('Unnamed: 0',axis=1, inplace=True)\n",
        "X_test.drop('Unnamed: 0',axis=1, inplace=True)"
      ],
      "execution_count": null,
      "outputs": []
    },
    {
      "cell_type": "code",
      "metadata": {
        "colab": {
          "base_uri": "https://localhost:8080/"
        },
        "id": "3txXn12Ls_mx",
        "outputId": "cf797f3a-4295-4ebd-a192-53cd3c73ab48"
      },
      "source": [
        "print('X_train shape: ', X_train.shape)\n",
        "print('y_train shape: ',y_train.shape)\n",
        "print('X_test shape: ', X_test.shape)"
      ],
      "execution_count": null,
      "outputs": [
        {
          "output_type": "stream",
          "text": [
            "X_train shape:  (1139754, 101)\n",
            "y_train shape:  (1139754, 1)\n",
            "X_test shape:  (506691, 101)\n"
          ],
          "name": "stdout"
        }
      ]
    },
    {
      "cell_type": "code",
      "metadata": {
        "id": "yVh6Jc8zeZno"
      },
      "source": [
        "y_train = y_train['isFraud'].astype(bool)"
      ],
      "execution_count": null,
      "outputs": []
    },
    {
      "cell_type": "markdown",
      "metadata": {
        "id": "_4Zk8JFCj8SW"
      },
      "source": [
        "# **XGBoost Classification with HyperOpt (best and final model)**\n",
        "* ### **Hyperparameter Optimization**"
      ]
    },
    {
      "cell_type": "code",
      "metadata": {
        "id": "NlZd0wGexMD5"
      },
      "source": [
        "import xgboost as xgb\n",
        "\n",
        "from sklearn.metrics import roc_auc_score\n",
        "from xgboost import plot_importance\n",
        "from sklearn.metrics import make_scorer\n",
        "\n",
        "import time\n",
        "\n",
        "## Hyperparameter optimization modules\n",
        "from hyperopt import fmin, hp, tpe, Trials, space_eval, STATUS_OK, STATUS_RUNNING\n",
        "from functools import partial"
      ],
      "execution_count": null,
      "outputs": []
    },
    {
      "cell_type": "markdown",
      "metadata": {
        "id": "26yWvveH1oS2"
      },
      "source": [
        "### **Hyperparameterization function**"
      ]
    },
    {
      "cell_type": "code",
      "metadata": {
        "id": "JWJPJjxhzb4S"
      },
      "source": [
        "def hyper_opt(params):\n",
        "    time1 = time.time()\n",
        "    params = {\n",
        "        'max_depth': int(params['max_depth']),\n",
        "        'gamma': \"{:.3f}\".format(params['gamma']),\n",
        "        'subsample': \"{:.2f}\".format(params['subsample']),\n",
        "        'reg_alpha': \"{:.3f}\".format(params['reg_alpha']),\n",
        "        'reg_lambda': \"{:.3f}\".format(params['reg_lambda']),\n",
        "        'learning_rate': \"{:.3f}\".format(params['learning_rate']),\n",
        "        'num_leaves': '{:.3f}'.format(params['num_leaves']),\n",
        "        'colsample_bytree': '{:.3f}'.format(params['colsample_bytree']),\n",
        "        'min_child_samples': '{:.3f}'.format(params['min_child_samples']),\n",
        "        'feature_fraction': '{:.3f}'.format(params['feature_fraction']),\n",
        "        'bagging_fraction': '{:.3f}'.format(params['bagging_fraction'])\n",
        "    }\n",
        "\n",
        "    print(\"\\n############## New Run ################\")\n",
        "    print(f\"params = {params}\")\n",
        "    FOLDS = 4\n",
        "    count=1\n",
        "    skf = StratifiedKFold(n_splits=FOLDS, shuffle=True, random_state=42)\n",
        "\n",
        "    tss = TimeSeriesSplit(n_splits=FOLDS)\n",
        "    y_preds = np.zeros(sample_submission.shape[0])\n",
        "    y_oof = np.zeros(X_train.shape[0])\n",
        "    score_mean = 0\n",
        "    for tr_idx, val_idx in tss.split(X_train, y_train):\n",
        "        clf = xgb.XGBClassifier(\n",
        "            n_estimators=600, random_state=4, verbose=True, \n",
        "            tree_method='gpu_hist', \n",
        "            **params\n",
        "        )\n",
        "\n",
        "        X_tr, X_vl = X_train.iloc[tr_idx, :], X_train.iloc[val_idx, :]\n",
        "        y_tr, y_vl = y_train.iloc[tr_idx], y_train.iloc[val_idx]\n",
        "        \n",
        "        clf.fit(X_tr, y_tr)\n",
        "  \n",
        "        try:\n",
        "            score = make_scorer(roc_auc_score, needs_proba= True)(clf, X_vl, y_vl)\n",
        "        except ValueError:\n",
        "            pass\n",
        "\n",
        "        score_mean += score\n",
        "        print(f'{count} CV - score: {round(score, 4)}')\n",
        "        count += 1\n",
        "    time2 = time.time() - time1\n",
        "    print(f\"Total Time Run: {round(time2 / 60,2)}\")\n",
        "    print(f'Mean ROC_AUC: {score_mean / FOLDS}')\n",
        "    del X_tr, X_vl, y_tr, y_vl, clf, score\n",
        "    return -(score_mean / FOLDS)\n"
      ],
      "execution_count": null,
      "outputs": []
    },
    {
      "cell_type": "markdown",
      "metadata": {
        "id": "4rZsJaRaw2sb"
      },
      "source": [
        "### **Optimizer Algorithm Parameters** "
      ]
    },
    {
      "cell_type": "code",
      "metadata": {
        "id": "G4d7L0M_xB_y"
      },
      "source": [
        "#from hyper_opt_function import parameters\n",
        "\n",
        "parameters = {\n",
        "    # The maximum depth of a tree, same as GBM.\n",
        "    # Used to control over-fitting as higher depth will allow model \n",
        "    # to learn relations very specific to a particular sample.\n",
        "    # Should be tuned using CV.\n",
        "    # Typical values: 3-10\n",
        "    'max_depth': hp.quniform('max_depth', 7, 23, 1),\n",
        "    \n",
        "    # reg_alpha: L1 regularization term. L1 regularization encourages sparsity \n",
        "    # (meaning pulling weights to 0). It can be more useful when the objective\n",
        "    # is logistic regression since you might need help with feature selection.\n",
        "    'reg_alpha':  hp.uniform('reg_alpha', 0.01, 0.4),\n",
        "    \n",
        "    # reg_lambda: L2 regularization term. L2 encourages smaller weights, this\n",
        "    # approach can be more useful in tree-models where zeroing \n",
        "    # features might not make much sense.\n",
        "    'reg_lambda': hp.uniform('reg_lambda', 0.01, .4),\n",
        "    \n",
        "    # eta: Analogous to learning rate in GBM\n",
        "    # Makes the model more robust by shrinking the weights on each step\n",
        "    # Typical final values to be used: 0.01-0.2\n",
        "    'learning_rate': hp.uniform('learning_rate', 0.01, 0.2),\n",
        "    \n",
        "    # colsample_bytree: Similar to max_features in GBM. Denotes the \n",
        "    # fraction of columns to be randomly samples for each tree.\n",
        "    # Typical values: 0.5-1\n",
        "    'colsample_bytree': hp.uniform('colsample_bytree', 0.3, .9),\n",
        "    \n",
        "    # A node is split only when the resulting split gives a positive\n",
        "    # reduction in the loss function. Gamma specifies the \n",
        "    # minimum loss reduction required to make a split.\n",
        "    # Makes the algorithm conservative. The values can vary depending on the loss function and should be tuned.\n",
        "    'gamma': hp.uniform('gamma', 0.01, .7),\n",
        "    \n",
        "    # more increases accuracy, but may lead to overfitting.\n",
        "    # num_leaves: the number of leaf nodes to use. Having a large number \n",
        "    # of leaves will improve accuracy, but will also lead to overfitting.\n",
        "    'num_leaves': hp.choice('num_leaves', list(range(20, 250, 10))),\n",
        "    \n",
        "    # specifies the minimum samples per leaf node.\n",
        "    # the minimum number of samples (data) to group into a leaf. \n",
        "    # The parameter can greatly assist with overfitting: larger sample\n",
        "    # sizes per leaf will reduce overfitting (but may lead to under-fitting).\n",
        "    'min_child_samples': hp.choice('min_child_samples', list(range(100, 250, 10))),\n",
        "    \n",
        "    # subsample: represents a fraction of the rows (observations) to be \n",
        "    # considered when building each subtree. Tianqi Chen and Carlos Guestrin\n",
        "    # in their paper A Scalable Tree Boosting System recommend \n",
        "    'subsample': hp.choice('subsample', [0.2, 0.4, 0.5, 0.6, 0.7, .8, .9]),\n",
        "    \n",
        "    # randomly select a fraction of the features.\n",
        "    # feature_fraction: controls the subsampling of features used\n",
        "    # for training (as opposed to subsampling the actual training data in \n",
        "    # the case of bagging). Smaller fractions reduce overfitting.\n",
        "    'feature_fraction': hp.uniform('feature_fraction', 0.4, .8),\n",
        "    \n",
        "    # randomly bag or subsample training data.\n",
        "    'bagging_fraction': hp.uniform('bagging_fraction', 0.4, .9)\n",
        "    \n",
        "    # bagging_fraction and bagging_freq: enables bagging (subsampling) \n",
        "    # of the training data. Both values need to be set for bagging to be used.\n",
        "    # The frequency controls how often (iteration) bagging is used. Smaller\n",
        "    # fractions and frequencies reduce overfitting.\n",
        "}"
      ],
      "execution_count": null,
      "outputs": []
    },
    {
      "cell_type": "markdown",
      "metadata": {
        "id": "ZNaM8Z1Uww0L"
      },
      "source": [
        "## **Running the Optimizer**"
      ]
    },
    {
      "cell_type": "code",
      "metadata": {
        "colab": {
          "background_save": true,
          "base_uri": "https://localhost:8080/"
        },
        "id": "WBxKOPbRw09X",
        "outputId": "dd6d87ff-564c-4436-87b0-52a64e71f5e2"
      },
      "source": [
        "%time hyperOpt_best = fmin(fn = hyper_opt, space = parameters, algo = tpe.suggest, max_evals = 30) #check max_evals\n",
        "\n",
        "best_parameters = space_eval(parameters, hyperOpt_best)"
      ],
      "execution_count": null,
      "outputs": [
        {
          "output_type": "stream",
          "text": [
            "\n",
            "############## New Run ################\n",
            "params = {'max_depth': 23, 'gamma': '0.242', 'subsample': '0.90', 'reg_alpha': '0.042', 'reg_lambda': '0.299', 'learning_rate': '0.022', 'num_leaves': '160.000', 'colsample_bytree': '0.406', 'min_child_samples': '150.000', 'feature_fraction': '0.765', 'bagging_fraction': '0.872'}\n",
            "1 CV - score: 0.8997\n",
            "2 CV - score: 0.9782\n",
            "3 CV - score: 0.9782\n",
            "4 CV - score: 0.9782\n",
            "Total Time Run: 13.84\n",
            "Mean ROC_AUC: 0.9586014275099253\n",
            "\n",
            "############## New Run ################\n",
            "params = {'max_depth': 9, 'gamma': '0.496', 'subsample': '0.50', 'reg_alpha': '0.052', 'reg_lambda': '0.039', 'learning_rate': '0.020', 'num_leaves': '170.000', 'colsample_bytree': '0.522', 'min_child_samples': '130.000', 'feature_fraction': '0.674', 'bagging_fraction': '0.816'}\n",
            "1 CV - score: 0.899\n",
            "2 CV - score: 0.9605\n",
            "3 CV - score: 0.9605\n",
            "4 CV - score: 0.9605\n",
            "Total Time Run: 1.96\n",
            "Mean ROC_AUC: 0.9451083744687256\n",
            "\n",
            "############## New Run ################\n",
            "params = {'max_depth': 20, 'gamma': '0.415', 'subsample': '0.80', 'reg_alpha': '0.071', 'reg_lambda': '0.082', 'learning_rate': '0.138', 'num_leaves': '60.000', 'colsample_bytree': '0.679', 'min_child_samples': '120.000', 'feature_fraction': '0.752', 'bagging_fraction': '0.825'}\n",
            "1 CV - score: 0.8881\n",
            "2 CV - score: 0.9765\n",
            "3 CV - score: 0.9765\n",
            "4 CV - score: 0.9765\n",
            "Total Time Run: 4.05\n",
            "Mean ROC_AUC: 0.9544194834620613\n",
            "\n",
            "############## New Run ################\n",
            "params = {'max_depth': 14, 'gamma': '0.647', 'subsample': '0.50', 'reg_alpha': '0.240', 'reg_lambda': '0.123', 'learning_rate': '0.029', 'num_leaves': '160.000', 'colsample_bytree': '0.505', 'min_child_samples': '100.000', 'feature_fraction': '0.612', 'bagging_fraction': '0.460'}\n",
            "1 CV - score: 0.8945\n",
            "2 CV - score: 0.9769\n",
            "3 CV - score: 0.9769\n",
            "4 CV - score: 0.9769\n",
            "Total Time Run: 5.04\n",
            "Mean ROC_AUC: 0.9563138212286827\n",
            "\n",
            "############## New Run ################\n",
            "params = {'max_depth': 7, 'gamma': '0.699', 'subsample': '0.50', 'reg_alpha': '0.148', 'reg_lambda': '0.281', 'learning_rate': '0.153', 'num_leaves': '20.000', 'colsample_bytree': '0.841', 'min_child_samples': '200.000', 'feature_fraction': '0.594', 'bagging_fraction': '0.729'}\n",
            "1 CV - score: 0.8754\n",
            "2 CV - score: 0.9707\n",
            "3 CV - score: 0.9707\n",
            "4 CV - score: 0.9707\n",
            "Total Time Run: 1.32\n",
            "Mean ROC_AUC: 0.9468489267593987\n",
            "\n",
            "############## New Run ################\n",
            "params = {'max_depth': 19, 'gamma': '0.413', 'subsample': '0.60', 'reg_alpha': '0.178', 'reg_lambda': '0.251', 'learning_rate': '0.179', 'num_leaves': '70.000', 'colsample_bytree': '0.780', 'min_child_samples': '180.000', 'feature_fraction': '0.758', 'bagging_fraction': '0.760'}\n",
            "1 CV - score: 0.8825\n",
            "2 CV - score: 0.9751\n",
            "3 CV - score: 0.9751\n",
            "4 CV - score: 0.9751\n",
            "Total Time Run: 3.55\n",
            "Mean ROC_AUC: 0.9519926736893319\n",
            "\n",
            "############## New Run ################\n",
            "params = {'max_depth': 8, 'gamma': '0.672', 'subsample': '0.40', 'reg_alpha': '0.093', 'reg_lambda': '0.060', 'learning_rate': '0.179', 'num_leaves': '90.000', 'colsample_bytree': '0.360', 'min_child_samples': '160.000', 'feature_fraction': '0.679', 'bagging_fraction': '0.624'}\n",
            "1 CV - score: 0.8634\n",
            "2 CV - score: 0.9708\n",
            "3 CV - score: 0.9708\n",
            "4 CV - score: 0.9708\n",
            "Total Time Run: 1.48\n",
            "Mean ROC_AUC: 0.9439566042937331\n",
            "\n",
            "############## New Run ################\n",
            "params = {'max_depth': 14, 'gamma': '0.692', 'subsample': '0.90', 'reg_alpha': '0.053', 'reg_lambda': '0.250', 'learning_rate': '0.173', 'num_leaves': '100.000', 'colsample_bytree': '0.429', 'min_child_samples': '240.000', 'feature_fraction': '0.698', 'bagging_fraction': '0.644'}\n",
            "1 CV - score: 0.8871\n",
            "2 CV - score: 0.9756\n",
            "3 CV - score: 0.9756\n",
            "4 CV - score: 0.9756\n",
            "Total Time Run: 2.8\n",
            "Mean ROC_AUC: 0.9534815059904941\n",
            "\n",
            "############## New Run ################\n",
            "params = {'max_depth': 21, 'gamma': '0.314', 'subsample': '0.40', 'reg_alpha': '0.186', 'reg_lambda': '0.164', 'learning_rate': '0.080', 'num_leaves': '100.000', 'colsample_bytree': '0.343', 'min_child_samples': '110.000', 'feature_fraction': '0.798', 'bagging_fraction': '0.687'}\n",
            "1 CV - score: 0.8823\n",
            "2 CV - score: 0.9748\n",
            "3 CV - score: 0.9748\n",
            "4 CV - score: 0.9748\n",
            "Total Time Run: 5.16\n",
            "Mean ROC_AUC: 0.9517175669240088\n",
            "\n",
            "############## New Run ################\n",
            "params = {'max_depth': 18, 'gamma': '0.174', 'subsample': '0.20', 'reg_alpha': '0.230', 'reg_lambda': '0.213', 'learning_rate': '0.107', 'num_leaves': '100.000', 'colsample_bytree': '0.709', 'min_child_samples': '120.000', 'feature_fraction': '0.620', 'bagging_fraction': '0.738'}\n",
            "1 CV - score: 0.868\n",
            "2 CV - score: 0.97\n",
            "3 CV - score: 0.97\n",
            "4 CV - score: 0.97\n",
            "Total Time Run: 3.7\n",
            "Mean ROC_AUC: 0.9445291189769681\n",
            "\n",
            "############## New Run ################\n",
            "params = {'max_depth': 19, 'gamma': '0.634', 'subsample': '0.70', 'reg_alpha': '0.216', 'reg_lambda': '0.152', 'learning_rate': '0.199', 'num_leaves': '220.000', 'colsample_bytree': '0.627', 'min_child_samples': '230.000', 'feature_fraction': '0.652', 'bagging_fraction': '0.535'}\n",
            "1 CV - score: 0.8854\n",
            "2 CV - score: 0.9757\n",
            "3 CV - score: 0.9757\n",
            "4 CV - score: 0.9757\n",
            "Total Time Run: 3.45\n",
            "Mean ROC_AUC: 0.9531039345427879\n",
            "\n",
            "############## New Run ################\n",
            "params = {'max_depth': 16, 'gamma': '0.233', 'subsample': '0.90', 'reg_alpha': '0.059', 'reg_lambda': '0.017', 'learning_rate': '0.092', 'num_leaves': '170.000', 'colsample_bytree': '0.680', 'min_child_samples': '230.000', 'feature_fraction': '0.788', 'bagging_fraction': '0.458'}\n",
            "1 CV - score: 0.8939\n",
            "2 CV - score: 0.9774\n",
            "3 CV - score: 0.9774\n",
            "4 CV - score: 0.9774\n",
            "Total Time Run: 4.15\n",
            "Mean ROC_AUC: 0.9565344915803844\n",
            "\n",
            "############## New Run ################\n",
            "params = {'max_depth': 9, 'gamma': '0.024', 'subsample': '0.40', 'reg_alpha': '0.297', 'reg_lambda': '0.186', 'learning_rate': '0.021', 'num_leaves': '140.000', 'colsample_bytree': '0.760', 'min_child_samples': '130.000', 'feature_fraction': '0.603', 'bagging_fraction': '0.539'}\n",
            "1 CV - score: 0.8987\n",
            "2 CV - score: 0.9598\n",
            "3 CV - score: 0.9598\n",
            "4 CV - score: 0.9598\n",
            "Total Time Run: 1.97\n",
            "Mean ROC_AUC: 0.9445393665318678\n",
            "\n",
            "############## New Run ################\n",
            "params = {'max_depth': 8, 'gamma': '0.132', 'subsample': '0.90', 'reg_alpha': '0.290', 'reg_lambda': '0.041', 'learning_rate': '0.076', 'num_leaves': '60.000', 'colsample_bytree': '0.582', 'min_child_samples': '170.000', 'feature_fraction': '0.524', 'bagging_fraction': '0.770'}\n",
            "1 CV - score: 0.888\n",
            "2 CV - score: 0.9744\n",
            "3 CV - score: 0.9744\n",
            "4 CV - score: 0.9744\n",
            "Total Time Run: 1.52\n",
            "Mean ROC_AUC: 0.95278671674505\n",
            "\n",
            "############## New Run ################\n",
            "params = {'max_depth': 15, 'gamma': '0.635', 'subsample': '0.40', 'reg_alpha': '0.083', 'reg_lambda': '0.173', 'learning_rate': '0.141', 'num_leaves': '40.000', 'colsample_bytree': '0.871', 'min_child_samples': '240.000', 'feature_fraction': '0.573', 'bagging_fraction': '0.480'}\n",
            "1 CV - score: 0.8778\n",
            "2 CV - score: 0.9737\n",
            "3 CV - score: 0.9737\n",
            "4 CV - score: 0.9737\n",
            "Total Time Run: 3.27\n",
            "Mean ROC_AUC: 0.9497058231780947\n",
            "\n",
            "############## New Run ################\n",
            "params = {'max_depth': 15, 'gamma': '0.538', 'subsample': '0.80', 'reg_alpha': '0.158', 'reg_lambda': '0.104', 'learning_rate': '0.150', 'num_leaves': '180.000', 'colsample_bytree': '0.751', 'min_child_samples': '140.000', 'feature_fraction': '0.654', 'bagging_fraction': '0.552'}\n",
            "1 CV - score: 0.8864\n",
            "2 CV - score: 0.9763\n",
            "3 CV - score: 0.9763\n",
            "4 CV - score: 0.9763\n",
            "Total Time Run: 3.25\n",
            "Mean ROC_AUC: 0.9538085686045934\n",
            "\n",
            "############## New Run ################\n",
            "params = {'max_depth': 21, 'gamma': '0.601', 'subsample': '0.40', 'reg_alpha': '0.150', 'reg_lambda': '0.278', 'learning_rate': '0.045', 'num_leaves': '150.000', 'colsample_bytree': '0.880', 'min_child_samples': '130.000', 'feature_fraction': '0.502', 'bagging_fraction': '0.808'}\n",
            "1 CV - score: 0.8901\n",
            "2 CV - score: 0.9775\n",
            "3 CV - score: 0.9775\n",
            "4 CV - score: 0.9775\n",
            "Total Time Run: 7.32\n",
            "Mean ROC_AUC: 0.9556230412997366\n",
            "\n",
            "############## New Run ################\n",
            "params = {'max_depth': 18, 'gamma': '0.685', 'subsample': '0.60', 'reg_alpha': '0.349', 'reg_lambda': '0.329', 'learning_rate': '0.079', 'num_leaves': '70.000', 'colsample_bytree': '0.301', 'min_child_samples': '200.000', 'feature_fraction': '0.742', 'bagging_fraction': '0.742'}\n",
            "1 CV - score: 0.8913\n",
            "2 CV - score: 0.9765\n",
            "3 CV - score: 0.9765\n",
            "4 CV - score: 0.9765\n",
            "Total Time Run: 4.59\n",
            "Mean ROC_AUC: 0.955192375243233\n",
            "\n",
            "############## New Run ################\n",
            "params = {'max_depth': 10, 'gamma': '0.130', 'subsample': '0.70', 'reg_alpha': '0.323', 'reg_lambda': '0.149', 'learning_rate': '0.155', 'num_leaves': '120.000', 'colsample_bytree': '0.306', 'min_child_samples': '190.000', 'feature_fraction': '0.599', 'bagging_fraction': '0.454'}\n",
            "1 CV - score: 0.88\n",
            "2 CV - score: 0.975\n",
            "3 CV - score: 0.975\n",
            "4 CV - score: 0.975\n",
            "Total Time Run: 1.99\n",
            "Mean ROC_AUC: 0.9512579246462524\n",
            "\n",
            "############## New Run ################\n",
            "params = {'max_depth': 15, 'gamma': '0.470', 'subsample': '0.60', 'reg_alpha': '0.169', 'reg_lambda': '0.251', 'learning_rate': '0.172', 'num_leaves': '110.000', 'colsample_bytree': '0.381', 'min_child_samples': '130.000', 'feature_fraction': '0.645', 'bagging_fraction': '0.697'}\n",
            "1 CV - score: 0.877\n",
            "2 CV - score: 0.9745\n",
            "3 CV - score: 0.9745\n",
            "4 CV - score: 0.9745\n",
            "Total Time Run: 2.9\n",
            "Mean ROC_AUC: 0.9501088190144751\n",
            "\n",
            "############## New Run ################\n",
            "params = {'max_depth': 12, 'gamma': '0.266', 'subsample': '0.90', 'reg_alpha': '0.029', 'reg_lambda': '0.398', 'learning_rate': '0.112', 'num_leaves': '200.000', 'colsample_bytree': '0.468', 'min_child_samples': '150.000', 'feature_fraction': '0.414', 'bagging_fraction': '0.891'}\n",
            "1 CV - score: 0.8897\n",
            "2 CV - score: 0.9774\n",
            "3 CV - score: 0.9774\n",
            "4 CV - score: 0.9774\n",
            "Total Time Run: 2.83\n",
            "Mean ROC_AUC: 0.9555101134754487\n",
            "\n",
            "############## New Run ################\n",
            "params = {'max_depth': 22, 'gamma': '0.225', 'subsample': '0.90', 'reg_alpha': '0.016', 'reg_lambda': '0.367', 'learning_rate': '0.053', 'num_leaves': '130.000', 'colsample_bytree': '0.585', 'min_child_samples': '210.000', 'feature_fraction': '0.798', 'bagging_fraction': '0.402'}\n",
            "1 CV - score: 0.8986\n",
            "2 CV - score: 0.9783\n",
            "3 CV - score: 0.9783\n",
            "4 CV - score: 0.9783\n",
            "Total Time Run: 8.0\n",
            "Mean ROC_AUC: 0.9583589077277956\n",
            "\n",
            "############## New Run ################\n",
            "params = {'max_depth': 22, 'gamma': '0.063', 'subsample': '0.90', 'reg_alpha': '0.010', 'reg_lambda': '0.400', 'learning_rate': '0.049', 'num_leaves': '30.000', 'colsample_bytree': '0.560', 'min_child_samples': '210.000', 'feature_fraction': '0.717', 'bagging_fraction': '0.400'}\n",
            "1 CV - score: 0.8984\n",
            "2 CV - score: 0.9786\n",
            "3 CV - score: 0.9786\n",
            "4 CV - score: 0.9786\n",
            "Total Time Run: 8.36\n",
            "Mean ROC_AUC: 0.9585626178879072\n",
            "\n",
            "############## New Run ################\n",
            "params = {'max_depth': 22, 'gamma': '0.055', 'subsample': '0.90', 'reg_alpha': '0.113', 'reg_lambda': '0.351', 'learning_rate': '0.050', 'num_leaves': '30.000', 'colsample_bytree': '0.431', 'min_child_samples': '150.000', 'feature_fraction': '0.709', 'bagging_fraction': '0.896'}\n",
            "1 CV - score: 0.8971\n",
            "2 CV - score: 0.9785\n",
            "3 CV - score: 0.9785\n",
            "4 CV - score: 0.9785\n",
            "Total Time Run: 8.21\n",
            "Mean ROC_AUC: 0.9581692025350294\n",
            "\n",
            "############## New Run ################\n",
            "params = {'max_depth': 22, 'gamma': '0.083', 'subsample': '0.20', 'reg_alpha': '0.123', 'reg_lambda': '0.319', 'learning_rate': '0.036', 'num_leaves': '210.000', 'colsample_bytree': '0.519', 'min_child_samples': '220.000', 'feature_fraction': '0.723', 'bagging_fraction': '0.597'}\n",
            "1 CV - score: 0.8855\n",
            "2 CV - score: 0.9738\n",
            "3 CV - score: 0.9738\n",
            "4 CV - score: 0.9738\n",
            "Total Time Run: 7.41\n",
            "Mean ROC_AUC: 0.9517403874445785\n",
            "\n",
            "############## New Run ################\n",
            "params = {'max_depth': 23, 'gamma': '0.324', 'subsample': '0.90', 'reg_alpha': '0.383', 'reg_lambda': '0.393', 'learning_rate': '0.013', 'num_leaves': '240.000', 'colsample_bytree': '0.417', 'min_child_samples': '210.000', 'feature_fraction': '0.775', 'bagging_fraction': '0.412'}\n",
            "1 CV - score: 0.897\n",
            "2 CV - score: 0.9769\n",
            "3 CV - score: 0.9769\n",
            "4 CV - score: 0.9769\n",
            "Total Time Run: 18.32\n",
            "Mean ROC_AUC: 0.956900148322066\n",
            "\n",
            "############## New Run ################\n",
            "params = {'max_depth': 23, 'gamma': '0.168', 'subsample': '0.90', 'reg_alpha': '0.022', 'reg_lambda': '0.293', 'learning_rate': '0.061', 'num_leaves': '160.000', 'colsample_bytree': '0.627', 'min_child_samples': '210.000', 'feature_fraction': '0.727', 'bagging_fraction': '0.864'}\n",
            "1 CV - score: 0.8974\n",
            "2 CV - score: 0.9791\n",
            "3 CV - score: 0.9791\n",
            "4 CV - score: 0.9791\n",
            "Total Time Run: 8.91\n",
            "Mean ROC_AUC: 0.9586859296749797\n",
            "\n",
            "############## New Run ################\n",
            "params = {'max_depth': 18, 'gamma': '0.172', 'subsample': '0.90', 'reg_alpha': '0.030', 'reg_lambda': '0.311', 'learning_rate': '0.063', 'num_leaves': '160.000', 'colsample_bytree': '0.632', 'min_child_samples': '150.000', 'feature_fraction': '0.426', 'bagging_fraction': '0.857'}\n",
            "1 CV - score: 0.8964\n",
            "2 CV - score: 0.9781\n",
            "3 CV - score: 0.9781\n",
            "4 CV - score: 0.9781\n",
            "Total Time Run: 5.5\n",
            "Mean ROC_AUC: 0.9576883766696316\n",
            "\n",
            "############## New Run ################\n",
            "params = {'max_depth': 23, 'gamma': '0.377', 'subsample': '0.20', 'reg_alpha': '0.109', 'reg_lambda': '0.215', 'learning_rate': '0.064', 'num_leaves': '160.000', 'colsample_bytree': '0.544', 'min_child_samples': '140.000', 'feature_fraction': '0.765', 'bagging_fraction': '0.858'}\n",
            "1 CV - score: 0.8773\n",
            "2 CV - score: 0.9723\n",
            "3 CV - score: 0.9723\n",
            "4 CV - score: 0.9723\n",
            "Total Time Run: 7.47\n",
            "Mean ROC_AUC: 0.9485625171640949\n",
            "\n",
            "############## New Run ################\n",
            "params = {'max_depth': 17, 'gamma': '0.276', 'subsample': '0.70', 'reg_alpha': '0.046', 'reg_lambda': '0.287', 'learning_rate': '0.118', 'num_leaves': '190.000', 'colsample_bytree': '0.482', 'min_child_samples': '160.000', 'feature_fraction': '0.684', 'bagging_fraction': '0.804'}\n",
            "1 CV - score: 0.8891\n",
            "2 CV - score: 0.9762\n",
            "3 CV - score: 0.9762\n",
            "4 CV - score: 0.9762\n",
            "Total Time Run: 3.84\n",
            "Mean ROC_AUC: 0.9544025624743497\n",
            "100%|██████████| 30/30 [2:36:10<00:00, 312.36s/it, best loss: -0.9586859296749797]\n",
            "CPU times: user 2h 36min 7s, sys: 11.2 s, total: 2h 36min 18s\n",
            "Wall time: 2h 36min 10s\n"
          ],
          "name": "stdout"
        }
      ]
    },
    {
      "cell_type": "markdown",
      "metadata": {
        "id": "CtKeRireyYJw"
      },
      "source": [
        "* ### **Best Parameters**"
      ]
    },
    {
      "cell_type": "code",
      "metadata": {
        "colab": {
          "base_uri": "https://localhost:8080/"
        },
        "id": "iRPF7RfnycHj",
        "outputId": "a4a74fbe-fa9f-484b-eaf9-bb418c833bd6"
      },
      "source": [
        "print(\"BEST HyperOpt PARAMS: \", best_parameters)\n",
        "\n",
        "best_parameters['max_depth'] = int(best_parameters['max_depth'])"
      ],
      "execution_count": 19,
      "outputs": [
        {
          "output_type": "stream",
          "text": [
            "BEST HyperOpt PARAMS:  {'bagging_fraction': 0.8640269698956295, 'colsample_bytree': 0.6272318890888496, 'feature_fraction': 0.7268934896539098, 'gamma': 0.1681830124075458, 'learning_rate': 0.061478187605162056, 'max_depth': 23.0, 'min_child_samples': 210, 'num_leaves': 160, 'reg_alpha': 0.021504250452895467, 'reg_lambda': 0.2928109816202592, 'subsample': 0.9}\n"
          ],
          "name": "stdout"
        }
      ]
    },
    {
      "cell_type": "markdown",
      "metadata": {
        "id": "WUUs8Gjbzqu7"
      },
      "source": [
        "## **Implementing and Training XGBoost Model with HyperOpt parameters**"
      ]
    },
    {
      "cell_type": "code",
      "metadata": {
        "colab": {
          "base_uri": "https://localhost:8080/"
        },
        "id": "kzvnGVY10Ja7",
        "outputId": "a0b8c65b-96ab-4bb6-a77b-a2524fe5922d"
      },
      "source": [
        "xgb_best = xgb.XGBClassifier(n_estimators=300, **best_parameters, tree_method='gpu_hist')\n",
        "#xgb_best = xgboost.XGBClassifier(n_estimators=300, param_grid = best_parameters, tree_method='gpu_hist')\n",
        "\n",
        "xgb_best.fit(X_train, y_train)"
      ],
      "execution_count": 20,
      "outputs": [
        {
          "output_type": "execute_result",
          "data": {
            "text/plain": [
              "XGBClassifier(bagging_fraction=0.8640269698956295, base_score=0.5,\n",
              "              booster='gbtree', colsample_bylevel=1, colsample_bynode=1,\n",
              "              colsample_bytree=0.6272318890888496,\n",
              "              feature_fraction=0.7268934896539098, gamma=0.1681830124075458,\n",
              "              learning_rate=0.061478187605162056, max_delta_step=0,\n",
              "              max_depth=23, min_child_samples=210, min_child_weight=1,\n",
              "              missing=None, n_estimators=300, n_jobs=1, nthread=None,\n",
              "              num_leaves=160, objective='binary:logistic', random_state=0,\n",
              "              reg_alpha=0.021504250452895467, reg_lambda=0.2928109816202592,\n",
              "              scale_pos_weight=1, seed=None, silent=None, subsample=0.9,\n",
              "              tree_method='gpu_hist', verbosity=1)"
            ]
          },
          "metadata": {
            "tags": []
          },
          "execution_count": 20
        }
      ]
    },
    {
      "cell_type": "markdown",
      "metadata": {
        "id": "mP7PxRSB1Nio"
      },
      "source": [
        "* ### **Predicting Presence of Fradulent Transactions for Test Set (X_test)**"
      ]
    },
    {
      "cell_type": "code",
      "metadata": {
        "id": "Ju7wWhtn1Z6D"
      },
      "source": [
        "y_pred = xgb_best.predict(X_test)\n",
        "y_pred_proba = xgb_best.predict_proba(X_test)[:,1] "
      ],
      "execution_count": 21,
      "outputs": []
    },
    {
      "cell_type": "markdown",
      "metadata": {
        "id": "ZGpACqpL1p3W"
      },
      "source": [
        "## **Feature Importance Rankings and Visualization**"
      ]
    },
    {
      "cell_type": "code",
      "metadata": {
        "colab": {
          "base_uri": "https://localhost:8080/",
          "height": 610
        },
        "id": "yfu6KaP41uHq",
        "outputId": "72e3af7c-0db3-4eff-be05-4ff924b4bb2a"
      },
      "source": [
        "feature_important = xgb_best.get_booster().get_score(importance_type=\"weight\")\n",
        "keys = list(feature_important.keys())\n",
        "values = list(feature_important.values())\n",
        "\n",
        "plot_df = pd.DataFrame(data=values, index=keys, columns=[\"score\"]).sort_values(by = \"score\", ascending=False)\n",
        "plot_df.reset_index(inplace=True)\n",
        "plot_df.columns = ['Feature Name', 'Score']\n",
        "plot_df.sort_values('Score', ascending = False, inplace = True)\n",
        "plot_df.set_index('Feature Name', inplace = True)\n",
        "\n",
        "plt.figure(figsize = (15,8))\n",
        "\n",
        "plot_df.iloc[:25].plot(kind = 'bar', legend = False, figsize = (16,7), color=\"g\", align=\"center\")\n",
        "plt.title(\"Feature Importance\\n\", fontsize=20)\n",
        "plt.xticks(fontsize = 10)\n",
        "plt.xlabel('Top 25 Feature Names', fontsize=18)\n",
        "plt.ylabel('Score\\n', fontsize =18)\n",
        "plt.show()\n"
      ],
      "execution_count": 22,
      "outputs": [
        {
          "output_type": "display_data",
          "data": {
            "text/plain": [
              "<Figure size 1080x576 with 0 Axes>"
            ]
          },
          "metadata": {
            "tags": []
          }
        },
        {
          "output_type": "display_data",
          "data": {
            "image/png": "[encoded data removed]",
            "text/plain": [
              "<Figure size 1152x504 with 1 Axes>"
            ]
          },
          "metadata": {
            "tags": [],
            "needs_background": "light"
          }
        }
      ]
    },
    {
      "cell_type": "code",
      "metadata": {
        "id": "Uyt6fv0hX2Zl"
      },
      "source": [
        "sample_submission['isFraud'] = y_pred\n",
        "sample_submission.set_index('TransactionID',inplace = True)"
      ],
      "execution_count": null,
      "outputs": []
    },
    {
      "cell_type": "code",
      "metadata": {
        "colab": {
          "base_uri": "https://localhost:8080/"
        },
        "id": "NVP7GXcxGhjM",
        "outputId": "e1b66285-e7a9-4230-ab6f-14f1b441ee82"
      },
      "source": [
        "sample_submission.isFraud.value_counts()"
      ],
      "execution_count": 26,
      "outputs": [
        {
          "output_type": "execute_result",
          "data": {
            "text/plain": [
              "False    497693\n",
              "True       8998\n",
              "Name: isFraud, dtype: int64"
            ]
          },
          "metadata": {
            "tags": []
          },
          "execution_count": 26
        }
      ]
    },
    {
      "cell_type": "markdown",
      "metadata": {
        "id": "EPIRS-rPRttg"
      },
      "source": [
        "## **Saving the model**"
      ]
    },
    {
      "cell_type": "code",
      "metadata": {
        "id": "tz-6wDnYRvcB",
        "colab": {
          "base_uri": "https://localhost:8080/"
        },
        "outputId": "d5975c32-2b0e-4d97-831f-bf2b29cbeb25"
      },
      "source": [
        "import joblib \n",
        "\n",
        "joblib.dump(xgb_best, '../content/fraud-detection-hyperopt-model.pkl')"
      ],
      "execution_count": 33,
      "outputs": [
        {
          "output_type": "execute_result",
          "data": {
            "text/plain": [
              "['../content/fraud-detection-hyperopt-model.pkl']"
            ]
          },
          "metadata": {
            "tags": []
          },
          "execution_count": 33
        }
      ]
    }
  ]
}